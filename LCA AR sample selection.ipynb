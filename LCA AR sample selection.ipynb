{
 "cells": [
  {
   "cell_type": "code",
   "execution_count": 23,
   "metadata": {},
   "outputs": [
    {
     "name": "stdout",
     "output_type": "stream",
     "text": [
      "   Invoice             Inv. Date             Due Date  Cur    Inv Amnt - HC   \\\n",
      "0                                                                              \n",
      "1  DAR 54000363     0   07/19/19  2019-07-19 00:00:00  CAD           1863.86   \n",
      "2  DAR 54000365     0   07/19/19  2019-07-19 00:00:00  CAD          -1863.86   \n",
      "3  DAR 54000385     0   09/23/19  2019-09-23 00:00:00  CAD            127.05   \n",
      "4  DAR 54000386     0   09/23/19  2019-09-23 00:00:00  CAD           -127.05   \n",
      "\n",
      "    Amnt Rcvd - HC    Balance in HC    \\\n",
      "0                                       \n",
      "1                             1863.86   \n",
      "2                            -1863.86   \n",
      "3                              127.05   \n",
      "4                             -127.05   \n",
      "\n",
      "                                        Open Amount in HC  Between  \\\n",
      "0                                       Current                      \n",
      "1                                                  0                 \n",
      "2                                                  0                 \n",
      "3                                                  0                 \n",
      "4                                                  0                 \n",
      "\n",
      "         Unnamed: 8        Unnamed: 9       Unnamed: 10       Unnamed: 11  \\\n",
      "0   01 to 30 Days     31 to 60 Days     61 to 90 Days    91 to 120 Days     \n",
      "1                 0                 0                 0                 0   \n",
      "2                 0                 0                 0                 0   \n",
      "3                 0                 0                 0            127.05   \n",
      "4                 0                 0                 0           -127.05   \n",
      "\n",
      "    Unnamed: 12  \n",
      "0    > 120 Days  \n",
      "1       1863.86  \n",
      "2      -1863.86  \n",
      "3             0  \n",
      "4             0  \n"
     ]
    }
   ],
   "source": [
    "import pandas as pd\n",
    "df = pd.read_excel(\"LCA AR confirm.xlsx\",encoding = \"ISO-8859-1\",skiprows=1)\n",
    "print(df.head())"
   ]
  },
  {
   "cell_type": "code",
   "execution_count": null,
   "metadata": {},
   "outputs": [],
   "source": []
  },
  {
   "cell_type": "code",
   "execution_count": 24,
   "metadata": {
    "scrolled": true
   },
   "outputs": [
    {
     "data": {
      "text/html": [
       "<div>\n",
       "<style scoped>\n",
       "    .dataframe tbody tr th:only-of-type {\n",
       "        vertical-align: middle;\n",
       "    }\n",
       "\n",
       "    .dataframe tbody tr th {\n",
       "        vertical-align: top;\n",
       "    }\n",
       "\n",
       "    .dataframe thead th {\n",
       "        text-align: right;\n",
       "    }\n",
       "</style>\n",
       "<table border=\"1\" class=\"dataframe\">\n",
       "  <thead>\n",
       "    <tr style=\"text-align: right;\">\n",
       "      <th></th>\n",
       "      <th>Invoice</th>\n",
       "      <th>Inv. Date</th>\n",
       "      <th>Due Date</th>\n",
       "      <th>Cur</th>\n",
       "      <th>Inv Amnt - HC</th>\n",
       "      <th>Amnt Rcvd - HC</th>\n",
       "      <th>Balance in HC</th>\n",
       "      <th>Open Amount in HC  Between</th>\n",
       "      <th>Unnamed: 8</th>\n",
       "      <th>Unnamed: 9</th>\n",
       "      <th>Unnamed: 10</th>\n",
       "      <th>Unnamed: 11</th>\n",
       "      <th>Unnamed: 12</th>\n",
       "    </tr>\n",
       "  </thead>\n",
       "  <tbody>\n",
       "    <tr>\n",
       "      <td>3941</td>\n",
       "      <td>TOTAL FOR CUSTOMER   580807 in HC  CAD</td>\n",
       "      <td>2028.16</td>\n",
       "      <td>0</td>\n",
       "      <td>2028.16</td>\n",
       "      <td>0</td>\n",
       "      <td>2028.16</td>\n",
       "      <td>0</td>\n",
       "      <td>0</td>\n",
       "      <td>0</td>\n",
       "      <td>0</td>\n",
       "      <td>NaN</td>\n",
       "      <td>NaN</td>\n",
       "      <td>NaN</td>\n",
       "    </tr>\n",
       "    <tr>\n",
       "      <td>778</td>\n",
       "      <td>DAR 21110670     0</td>\n",
       "      <td>09/10/19</td>\n",
       "      <td>2019-10-10 00:00:00</td>\n",
       "      <td>CAD</td>\n",
       "      <td>2390.33</td>\n",
       "      <td></td>\n",
       "      <td>2390.33</td>\n",
       "      <td>0</td>\n",
       "      <td>0</td>\n",
       "      <td>0</td>\n",
       "      <td>0</td>\n",
       "      <td>2390.33</td>\n",
       "      <td>0</td>\n",
       "    </tr>\n",
       "    <tr>\n",
       "      <td>1430</td>\n",
       "      <td>DAR 21116899     0</td>\n",
       "      <td>12/16/19</td>\n",
       "      <td>2020-01-30 00:00:00</td>\n",
       "      <td>CAD</td>\n",
       "      <td>722.07</td>\n",
       "      <td></td>\n",
       "      <td>722.07</td>\n",
       "      <td>0</td>\n",
       "      <td>722.07</td>\n",
       "      <td>0</td>\n",
       "      <td>0</td>\n",
       "      <td>0</td>\n",
       "      <td>0</td>\n",
       "    </tr>\n",
       "    <tr>\n",
       "      <td>4136</td>\n",
       "      <td>DAR 21109636     0</td>\n",
       "      <td>08/23/19</td>\n",
       "      <td>2019-10-07 00:00:00</td>\n",
       "      <td>CAD</td>\n",
       "      <td>128.77</td>\n",
       "      <td></td>\n",
       "      <td>128.77</td>\n",
       "      <td>0</td>\n",
       "      <td>0</td>\n",
       "      <td>0</td>\n",
       "      <td>0</td>\n",
       "      <td>0</td>\n",
       "      <td>128.77</td>\n",
       "    </tr>\n",
       "    <tr>\n",
       "      <td>2090</td>\n",
       "      <td>DAR 21116350     0</td>\n",
       "      <td>12/06/19</td>\n",
       "      <td>2020-02-04 00:00:00</td>\n",
       "      <td>CAD</td>\n",
       "      <td>453.6</td>\n",
       "      <td></td>\n",
       "      <td>453.6</td>\n",
       "      <td>0</td>\n",
       "      <td>453.6</td>\n",
       "      <td>0</td>\n",
       "      <td>0</td>\n",
       "      <td>0</td>\n",
       "      <td>0</td>\n",
       "    </tr>\n",
       "  </tbody>\n",
       "</table>\n",
       "</div>"
      ],
      "text/plain": [
       "                             Invoice             Inv. Date  \\\n",
       "3941     TOTAL FOR CUSTOMER   580807 in HC  CAD    2028.16   \n",
       "778                          DAR 21110670     0   09/10/19   \n",
       "1430                         DAR 21116899     0   12/16/19   \n",
       "4136                         DAR 21109636     0   08/23/19   \n",
       "2090                         DAR 21116350     0   12/06/19   \n",
       "\n",
       "                 Due Date      Cur   Inv Amnt - HC    Amnt Rcvd - HC   \\\n",
       "3941                    0  2028.16                0           2028.16   \n",
       "778   2019-10-10 00:00:00      CAD          2390.33                     \n",
       "1430  2020-01-30 00:00:00      CAD           722.07                     \n",
       "4136  2019-10-07 00:00:00      CAD           128.77                     \n",
       "2090  2020-02-04 00:00:00      CAD            453.6                     \n",
       "\n",
       "      Balance in HC    \\\n",
       "3941                0   \n",
       "778           2390.33   \n",
       "1430           722.07   \n",
       "4136           128.77   \n",
       "2090            453.6   \n",
       "\n",
       "                                           Open Amount in HC  Between  \\\n",
       "3941                                                  0                 \n",
       "778                                                   0                 \n",
       "1430                                                  0                 \n",
       "4136                                                  0                 \n",
       "2090                                                  0                 \n",
       "\n",
       "     Unnamed: 8 Unnamed: 9 Unnamed: 10 Unnamed: 11 Unnamed: 12  \n",
       "3941          0          0         NaN         NaN         NaN  \n",
       "778           0          0           0     2390.33           0  \n",
       "1430     722.07          0           0           0           0  \n",
       "4136          0          0           0           0      128.77  \n",
       "2090      453.6          0           0           0           0  "
      ]
     },
     "execution_count": 24,
     "metadata": {},
     "output_type": "execute_result"
    }
   ],
   "source": [
    "df.sample(n=5, frac=None, replace=False, weights=None, random_state=None, axis=0)"
   ]
  },
  {
   "cell_type": "code",
   "execution_count": 26,
   "metadata": {},
   "outputs": [],
   "source": [
    "df.sample(n=5, frac=None, replace=False, weights=None, random_state=None, axis=0).to_excel('sampleoutput.xlsx',index=None)"
   ]
  },
  {
   "cell_type": "code",
   "execution_count": null,
   "metadata": {},
   "outputs": [],
   "source": [
    "export_excel = df.to_excel (r'C:\\Users\\Leonardo\\export_sampleselection.xlsx', index = None, header=True)"
   ]
  },
  {
   "cell_type": "code",
   "execution_count": 27,
   "metadata": {},
   "outputs": [
    {
     "ename": "SyntaxError",
     "evalue": "invalid syntax (<ipython-input-27-222e3ddf7d50>, line 1)",
     "output_type": "error",
     "traceback": [
      "\u001b[1;36m  File \u001b[1;32m\"<ipython-input-27-222e3ddf7d50>\"\u001b[1;36m, line \u001b[1;32m1\u001b[0m\n\u001b[1;33m    anaconda login\u001b[0m\n\u001b[1;37m                 ^\u001b[0m\n\u001b[1;31mSyntaxError\u001b[0m\u001b[1;31m:\u001b[0m invalid syntax\n"
     ]
    }
   ],
   "source": []
  },
  {
   "cell_type": "code",
   "execution_count": null,
   "metadata": {},
   "outputs": [],
   "source": []
  }
 ],
 "metadata": {
  "kernelspec": {
   "display_name": "Python 3",
   "language": "python",
   "name": "python3"
  },
  "language_info": {
   "codemirror_mode": {
    "name": "ipython",
    "version": 3
   },
   "file_extension": ".py",
   "mimetype": "text/x-python",
   "name": "python",
   "nbconvert_exporter": "python",
   "pygments_lexer": "ipython3",
   "version": "3.7.4"
  }
 },
 "nbformat": 4,
 "nbformat_minor": 2
}
